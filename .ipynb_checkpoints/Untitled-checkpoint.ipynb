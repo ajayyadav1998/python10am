{
 "cells": [
  {
   "cell_type": "code",
   "execution_count": 3,
   "metadata": {},
   "outputs": [],
   "source": [
    "import numpy as np"
   ]
  },
  {
   "cell_type": "code",
   "execution_count": 4,
   "metadata": {},
   "outputs": [
    {
     "data": {
      "text/plain": [
       "80"
      ]
     },
     "execution_count": 4,
     "metadata": {},
     "output_type": "execute_result"
    }
   ],
   "source": [
    "np.random.randint(1,100)"
   ]
  },
  {
   "cell_type": "code",
   "execution_count": 5,
   "metadata": {},
   "outputs": [],
   "source": [
    "from random import * "
   ]
  },
  {
   "cell_type": "code",
   "execution_count": 10,
   "metadata": {},
   "outputs": [
    {
     "data": {
      "text/plain": [
       "0.3071008197999334"
      ]
     },
     "execution_count": 10,
     "metadata": {},
     "output_type": "execute_result"
    }
   ],
   "source": [
    "random()"
   ]
  },
  {
   "cell_type": "code",
   "execution_count": 11,
   "metadata": {},
   "outputs": [
    {
     "data": {
      "text/plain": [
       "7"
      ]
     },
     "execution_count": 11,
     "metadata": {},
     "output_type": "execute_result"
    }
   ],
   "source": [
    "randint(1,100)"
   ]
  },
  {
   "cell_type": "code",
   "execution_count": 12,
   "metadata": {},
   "outputs": [
    {
     "data": {
      "text/plain": [
       "[40,\n",
       " 33,\n",
       " 92,\n",
       " 42,\n",
       " 46,\n",
       " 2,\n",
       " 58,\n",
       " 11,\n",
       " 4,\n",
       " 39,\n",
       " 85,\n",
       " 7,\n",
       " 44,\n",
       " 35,\n",
       " 96,\n",
       " 16,\n",
       " 69,\n",
       " 87,\n",
       " 24,\n",
       " 72,\n",
       " 97,\n",
       " 77,\n",
       " 3,\n",
       " 17,\n",
       " 80,\n",
       " 18,\n",
       " 45,\n",
       " 93,\n",
       " 1,\n",
       " 70,\n",
       " 75,\n",
       " 73,\n",
       " 71,\n",
       " 81,\n",
       " 74,\n",
       " 37,\n",
       " 99,\n",
       " 8,\n",
       " 88,\n",
       " 26,\n",
       " 89,\n",
       " 14,\n",
       " 23,\n",
       " 91,\n",
       " 13,\n",
       " 54,\n",
       " 12,\n",
       " 66,\n",
       " 65,\n",
       " 34,\n",
       " 57,\n",
       " 67,\n",
       " 94,\n",
       " 25,\n",
       " 22,\n",
       " 48,\n",
       " 50,\n",
       " 31,\n",
       " 52,\n",
       " 19]"
      ]
     },
     "execution_count": 12,
     "metadata": {},
     "output_type": "execute_result"
    }
   ],
   "source": [
    "sample(range(1,100),60)"
   ]
  },
  {
   "cell_type": "code",
   "execution_count": 13,
   "metadata": {},
   "outputs": [],
   "source": [
    "from getpass import getpass"
   ]
  },
  {
   "cell_type": "code",
   "execution_count": 15,
   "metadata": {},
   "outputs": [
    {
     "name": "stdout",
     "output_type": "stream",
     "text": [
      "········\n"
     ]
    },
    {
     "data": {
      "text/plain": [
       "'hrishwa bhot inttelligent hai'"
      ]
     },
     "execution_count": 15,
     "metadata": {},
     "output_type": "execute_result"
    }
   ],
   "source": [
    "getpass()"
   ]
  },
  {
   "cell_type": "code",
   "execution_count": null,
   "metadata": {},
   "outputs": [],
   "source": []
  }
 ],
 "metadata": {
  "kernelspec": {
   "display_name": "Python 3",
   "language": "python",
   "name": "python3"
  },
  "language_info": {
   "codemirror_mode": {
    "name": "ipython",
    "version": 3
   },
   "file_extension": ".py",
   "mimetype": "text/x-python",
   "name": "python",
   "nbconvert_exporter": "python",
   "pygments_lexer": "ipython3",
   "version": "3.7.3"
  }
 },
 "nbformat": 4,
 "nbformat_minor": 2
}

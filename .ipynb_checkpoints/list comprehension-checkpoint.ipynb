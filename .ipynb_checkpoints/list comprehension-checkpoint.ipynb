{
 "cells": [
  {
   "cell_type": "code",
   "execution_count": 9,
   "metadata": {},
   "outputs": [],
   "source": [
    "a = [1,2,3,4,5,6,7,8,9,10]\n",
    "b = ['a','b','c','d','e','f','g','h']"
   ]
  },
  {
   "cell_type": "code",
   "execution_count": 10,
   "metadata": {},
   "outputs": [
    {
     "name": "stdout",
     "output_type": "stream",
     "text": [
      "(1, 'a')\n",
      "(2, 'b')\n",
      "(3, 'c')\n",
      "(4, 'd')\n",
      "(5, 'e')\n",
      "(6, 'f')\n",
      "(7, 'g')\n",
      "(8, 'h')\n"
     ]
    }
   ],
   "source": [
    "for var in zip(a,b):\n",
    "    print(var)"
   ]
  },
  {
   "cell_type": "code",
   "execution_count": 11,
   "metadata": {},
   "outputs": [],
   "source": [
    "name = ['ajay','vishal','rajesh','ankit']"
   ]
  },
  {
   "cell_type": "code",
   "execution_count": 12,
   "metadata": {},
   "outputs": [
    {
     "data": {
      "text/plain": [
       "['ajay', 'vishal', 'rajesh', 'ankit']"
      ]
     },
     "execution_count": 12,
     "metadata": {},
     "output_type": "execute_result"
    }
   ],
   "source": [
    "name"
   ]
  },
  {
   "cell_type": "code",
   "execution_count": 14,
   "metadata": {},
   "outputs": [
    {
     "name": "stdout",
     "output_type": "stream",
     "text": [
      "(1, 'ajay')\n",
      "(2, 'vishal')\n",
      "(3, 'rajesh')\n",
      "(4, 'ankit')\n"
     ]
    }
   ],
   "source": [
    "for var in enumerate(name,start=1):\n",
    "    print(var)"
   ]
  },
  {
   "cell_type": "code",
   "execution_count": 15,
   "metadata": {},
   "outputs": [
    {
     "data": {
      "text/plain": [
       "<zip at 0x218557bea88>"
      ]
     },
     "execution_count": 15,
     "metadata": {},
     "output_type": "execute_result"
    }
   ],
   "source": [
    "zip(a,b)"
   ]
  },
  {
   "cell_type": "code",
   "execution_count": 16,
   "metadata": {},
   "outputs": [
    {
     "data": {
      "text/plain": [
       "<enumerate at 0x21855730288>"
      ]
     },
     "execution_count": 16,
     "metadata": {},
     "output_type": "execute_result"
    }
   ],
   "source": [
    "enumerate(name)"
   ]
  },
  {
   "cell_type": "code",
   "execution_count": 17,
   "metadata": {},
   "outputs": [
    {
     "name": "stdout",
     "output_type": "stream",
     "text": [
      "[1, 2, 3, 4, 5, 6, 7, 8, 9, 10]\n"
     ]
    }
   ],
   "source": [
    "a = []\n",
    "for var in range(1,11):\n",
    "    a.append(var)\n",
    "    \n",
    "print(a)"
   ]
  },
  {
   "cell_type": "code",
   "execution_count": 18,
   "metadata": {},
   "outputs": [
    {
     "data": {
      "text/plain": [
       "[1, 2, 3, 4, 5, 6, 7, 8, 9, 10]"
      ]
     },
     "execution_count": 18,
     "metadata": {},
     "output_type": "execute_result"
    }
   ],
   "source": [
    "a"
   ]
  },
  {
   "cell_type": "code",
   "execution_count": 21,
   "metadata": {},
   "outputs": [],
   "source": [
    "b= [var for var in range(1,21)]  # list comprehension"
   ]
  },
  {
   "cell_type": "code",
   "execution_count": 22,
   "metadata": {},
   "outputs": [
    {
     "data": {
      "text/plain": [
       "[1, 2, 3, 4, 5, 6, 7, 8, 9, 10, 11, 12, 13, 14, 15, 16, 17, 18, 19, 20]"
      ]
     },
     "execution_count": 22,
     "metadata": {},
     "output_type": "execute_result"
    }
   ],
   "source": [
    "b"
   ]
  },
  {
   "cell_type": "code",
   "execution_count": 8,
   "metadata": {},
   "outputs": [],
   "source": [
    "import random"
   ]
  },
  {
   "cell_type": "code",
   "execution_count": 9,
   "metadata": {},
   "outputs": [],
   "source": [
    "r = []\n",
    "for var in range(1,11):\n",
    "    r.append(random.randint(1,100))"
   ]
  },
  {
   "cell_type": "code",
   "execution_count": 10,
   "metadata": {},
   "outputs": [
    {
     "data": {
      "text/plain": [
       "[17, 27, 43, 22, 44, 37, 86, 68, 12, 31]"
      ]
     },
     "execution_count": 10,
     "metadata": {},
     "output_type": "execute_result"
    }
   ],
   "source": [
    "r"
   ]
  },
  {
   "cell_type": "code",
   "execution_count": 11,
   "metadata": {},
   "outputs": [
    {
     "name": "stdout",
     "output_type": "stream",
     "text": [
      "137\n",
      "713\n",
      "571\n",
      "256\n",
      "668\n",
      "962\n",
      "777\n",
      "964\n",
      "831\n",
      "55\n"
     ]
    }
   ],
   "source": [
    "for var in range(1,11):\n",
    "    print(random.randint(1,1111))"
   ]
  },
  {
   "cell_type": "code",
   "execution_count": 12,
   "metadata": {},
   "outputs": [
    {
     "data": {
      "text/plain": [
       "0.6535408823713537"
      ]
     },
     "execution_count": 12,
     "metadata": {},
     "output_type": "execute_result"
    }
   ],
   "source": [
    "random.random()"
   ]
  },
  {
   "cell_type": "code",
   "execution_count": 13,
   "metadata": {},
   "outputs": [],
   "source": [
    "sample = [random.sample(range(1,100),50) for var in range(10)]"
   ]
  },
  {
   "cell_type": "code",
   "execution_count": 14,
   "metadata": {},
   "outputs": [
    {
     "name": "stdout",
     "output_type": "stream",
     "text": [
      "[[52, 88, 44, 73, 32, 36, 98, 48, 84, 79, 33, 87, 76, 7, 90, 77, 10, 62, 20, 13, 18, 83, 78, 1, 30, 26, 82, 92, 61, 64, 31, 97, 91, 15, 8, 11, 68, 16, 17, 19, 59, 39, 29, 89, 71, 86, 9, 14, 74, 54], [67, 3, 34, 22, 5, 42, 80, 95, 96, 19, 89, 81, 52, 9, 47, 36, 76, 62, 17, 70, 72, 94, 37, 75, 25, 43, 45, 82, 68, 11, 1, 77, 51, 74, 18, 61, 21, 90, 41, 54, 57, 35, 10, 88, 65, 86, 13, 38, 92, 55], [82, 3, 1, 25, 99, 62, 67, 2, 38, 29, 51, 80, 78, 94, 60, 19, 42, 32, 52, 72, 8, 44, 76, 95, 68, 20, 37, 7, 15, 92, 93, 34, 21, 86, 13, 87, 71, 64, 91, 41, 54, 84, 33, 56, 73, 50, 43, 85, 59, 6], [99, 43, 22, 63, 5, 40, 4, 61, 38, 41, 50, 19, 31, 26, 97, 13, 87, 78, 54, 7, 82, 95, 79, 81, 98, 80, 85, 51, 28, 69, 64, 57, 6, 27, 86, 2, 18, 73, 42, 75, 90, 8, 93, 17, 11, 84, 68, 36, 24, 91], [31, 87, 65, 84, 95, 29, 18, 75, 41, 92, 94, 36, 47, 96, 17, 39, 54, 86, 80, 67, 91, 24, 37, 73, 27, 33, 66, 19, 50, 34, 13, 52, 83, 2, 23, 4, 14, 28, 46, 45, 88, 99, 30, 49, 35, 38, 70, 43, 89, 25], [72, 17, 64, 7, 48, 35, 75, 23, 42, 44, 92, 36, 73, 80, 40, 68, 30, 43, 2, 22, 18, 51, 90, 13, 89, 60, 63, 86, 27, 62, 19, 37, 57, 16, 41, 52, 66, 84, 9, 81, 74, 5, 21, 85, 96, 32, 53, 25, 94, 58], [18, 22, 2, 17, 72, 35, 93, 75, 63, 25, 16, 24, 47, 41, 49, 45, 95, 85, 80, 9, 40, 66, 84, 36, 73, 23, 92, 8, 77, 32, 51, 69, 55, 21, 78, 43, 42, 59, 57, 3, 7, 91, 87, 12, 30, 1, 13, 6, 76, 79], [28, 51, 60, 15, 20, 56, 4, 34, 18, 66, 99, 72, 5, 27, 55, 29, 49, 3, 83, 31, 37, 41, 91, 1, 98, 23, 70, 81, 97, 10, 58, 39, 36, 62, 53, 65, 85, 32, 92, 7, 42, 16, 13, 33, 47, 54, 40, 75, 93, 96], [60, 59, 19, 51, 77, 49, 34, 71, 5, 43, 14, 62, 85, 45, 8, 37, 50, 15, 64, 89, 7, 68, 98, 72, 93, 35, 96, 88, 46, 12, 22, 6, 13, 11, 52, 39, 3, 41, 66, 63, 25, 74, 81, 30, 97, 65, 53, 44, 23, 56], [36, 45, 26, 66, 74, 17, 22, 83, 99, 51, 82, 67, 98, 19, 8, 79, 88, 25, 32, 37, 60, 14, 57, 5, 97, 21, 31, 53, 76, 64, 72, 35, 63, 1, 86, 43, 9, 23, 85, 2, 77, 33, 39, 30, 94, 52, 41, 92, 70, 50]]\n"
     ]
    }
   ],
   "source": [
    "print(sample)"
   ]
  },
  {
   "cell_type": "code",
   "execution_count": 15,
   "metadata": {},
   "outputs": [
    {
     "name": "stdout",
     "output_type": "stream",
     "text": [
      "[52, 88, 44, 73, 32, 36, 98, 48, 84, 79, 33, 87, 76, 7, 90, 77, 10, 62, 20, 13, 18, 83, 78, 1, 30, 26, 82, 92, 61, 64, 31, 97, 91, 15, 8, 11, 68, 16, 17, 19, 59, 39, 29, 89, 71, 86, 9, 14, 74, 54, 67, 3, 34, 22, 5, 42, 80, 95, 96, 19, 89, 81, 52, 9, 47, 36, 76, 62, 17, 70, 72, 94, 37, 75, 25, 43, 45, 82, 68, 11, 1, 77, 51, 74, 18, 61, 21, 90, 41, 54, 57, 35, 10, 88, 65, 86, 13, 38, 92, 55, 82, 3, 1, 25, 99, 62, 67, 2, 38, 29, 51, 80, 78, 94, 60, 19, 42, 32, 52, 72, 8, 44, 76, 95, 68, 20, 37, 7, 15, 92, 93, 34, 21, 86, 13, 87, 71, 64, 91, 41, 54, 84, 33, 56, 73, 50, 43, 85, 59, 6, 99, 43, 22, 63, 5, 40, 4, 61, 38, 41, 50, 19, 31, 26, 97, 13, 87, 78, 54, 7, 82, 95, 79, 81, 98, 80, 85, 51, 28, 69, 64, 57, 6, 27, 86, 2, 18, 73, 42, 75, 90, 8, 93, 17, 11, 84, 68, 36, 24, 91, 31, 87, 65, 84, 95, 29, 18, 75, 41, 92, 94, 36, 47, 96, 17, 39, 54, 86, 80, 67, 91, 24, 37, 73, 27, 33, 66, 19, 50, 34, 13, 52, 83, 2, 23, 4, 14, 28, 46, 45, 88, 99, 30, 49, 35, 38, 70, 43, 89, 25, 72, 17, 64, 7, 48, 35, 75, 23, 42, 44, 92, 36, 73, 80, 40, 68, 30, 43, 2, 22, 18, 51, 90, 13, 89, 60, 63, 86, 27, 62, 19, 37, 57, 16, 41, 52, 66, 84, 9, 81, 74, 5, 21, 85, 96, 32, 53, 25, 94, 58, 18, 22, 2, 17, 72, 35, 93, 75, 63, 25, 16, 24, 47, 41, 49, 45, 95, 85, 80, 9, 40, 66, 84, 36, 73, 23, 92, 8, 77, 32, 51, 69, 55, 21, 78, 43, 42, 59, 57, 3, 7, 91, 87, 12, 30, 1, 13, 6, 76, 79, 28, 51, 60, 15, 20, 56, 4, 34, 18, 66, 99, 72, 5, 27, 55, 29, 49, 3, 83, 31, 37, 41, 91, 1, 98, 23, 70, 81, 97, 10, 58, 39, 36, 62, 53, 65, 85, 32, 92, 7, 42, 16, 13, 33, 47, 54, 40, 75, 93, 96, 60, 59, 19, 51, 77, 49, 34, 71, 5, 43, 14, 62, 85, 45, 8, 37, 50, 15, 64, 89, 7, 68, 98, 72, 93, 35, 96, 88, 46, 12, 22, 6, 13, 11, 52, 39, 3, 41, 66, 63, 25, 74, 81, 30, 97, 65, 53, 44, 23, 56, 36, 45, 26, 66, 74, 17, 22, 83, 99, 51, 82, 67, 98, 19, 8, 79, 88, 25, 32, 37, 60, 14, 57, 5, 97, 21, 31, 53, 76, 64, 72, 35, 63, 1, 86, 43, 9, 23, 85, 2, 77, 33, 39, 30, 94, 52, 41, 92, 70, 50]\n"
     ]
    }
   ],
   "source": [
    "s = []\n",
    "for var in sample:\n",
    "    s.extend(var)\n",
    "print(s)"
   ]
  },
  {
   "cell_type": "code",
   "execution_count": 16,
   "metadata": {},
   "outputs": [
    {
     "data": {
      "text/plain": [
       "10"
      ]
     },
     "execution_count": 16,
     "metadata": {},
     "output_type": "execute_result"
    }
   ],
   "source": [
    "len(sample)"
   ]
  },
  {
   "cell_type": "code",
   "execution_count": 17,
   "metadata": {},
   "outputs": [
    {
     "data": {
      "text/plain": [
       "500"
      ]
     },
     "execution_count": 17,
     "metadata": {},
     "output_type": "execute_result"
    }
   ],
   "source": [
    "len(s)"
   ]
  },
  {
   "cell_type": "code",
   "execution_count": 19,
   "metadata": {},
   "outputs": [
    {
     "name": "stdout",
     "output_type": "stream",
     "text": [
      "Name [1] = ajay\n",
      "Name [2] = sachin\n",
      "Name [3] = vipul\n",
      "Name [4] = nikhil\n",
      "Name [5] = bharat\n",
      "Name [6] = nidhi\n",
      "Name [7] = shubham\n",
      "Name [8] = ayush\n",
      "Name [9] = rajesh\n",
      "Name [10] = kanika\n"
     ]
    }
   ],
   "source": [
    "names = [input(f\"Name {[var]} = \") for var in range(1,11)]"
   ]
  },
  {
   "cell_type": "code",
   "execution_count": 20,
   "metadata": {},
   "outputs": [
    {
     "name": "stdout",
     "output_type": "stream",
     "text": [
      "['ajay', 'sachin', 'vipul', 'nikhil', 'bharat', 'nidhi', 'shubham', 'ayush', 'rajesh', 'kanika']\n"
     ]
    }
   ],
   "source": [
    "print(names)"
   ]
  },
  {
   "cell_type": "code",
   "execution_count": 21,
   "metadata": {},
   "outputs": [
    {
     "data": {
      "text/plain": [
       "10"
      ]
     },
     "execution_count": 21,
     "metadata": {},
     "output_type": "execute_result"
    }
   ],
   "source": [
    "len(names)"
   ]
  },
  {
   "cell_type": "code",
   "execution_count": 25,
   "metadata": {},
   "outputs": [
    {
     "data": {
      "text/plain": [
       "'shubham'"
      ]
     },
     "execution_count": 25,
     "metadata": {},
     "output_type": "execute_result"
    }
   ],
   "source": [
    "random.choice(names)"
   ]
  },
  {
   "cell_type": "code",
   "execution_count": 26,
   "metadata": {},
   "outputs": [],
   "source": [
    "c = []\n",
    "for var in range(3):\n",
    "    c.append(random.choice(names))"
   ]
  },
  {
   "cell_type": "code",
   "execution_count": 27,
   "metadata": {},
   "outputs": [
    {
     "data": {
      "text/plain": [
       "['shubham', 'shubham', 'kanika']"
      ]
     },
     "execution_count": 27,
     "metadata": {},
     "output_type": "execute_result"
    }
   ],
   "source": [
    "c"
   ]
  },
  {
   "cell_type": "code",
   "execution_count": 28,
   "metadata": {},
   "outputs": [],
   "source": [
    "n = [random.choice(names) for var in range(3)]"
   ]
  },
  {
   "cell_type": "code",
   "execution_count": 29,
   "metadata": {},
   "outputs": [
    {
     "data": {
      "text/plain": [
       "['nidhi', 'shubham', 'nidhi']"
      ]
     },
     "execution_count": 29,
     "metadata": {},
     "output_type": "execute_result"
    }
   ],
   "source": [
    "n"
   ]
  },
  {
   "cell_type": "code",
   "execution_count": null,
   "metadata": {},
   "outputs": [],
   "source": []
  }
 ],
 "metadata": {
  "kernelspec": {
   "display_name": "Python 3",
   "language": "python",
   "name": "python3"
  },
  "language_info": {
   "codemirror_mode": {
    "name": "ipython",
    "version": 3
   },
   "file_extension": ".py",
   "mimetype": "text/x-python",
   "name": "python",
   "nbconvert_exporter": "python",
   "pygments_lexer": "ipython3",
   "version": "3.7.3"
  }
 },
 "nbformat": 4,
 "nbformat_minor": 2
}

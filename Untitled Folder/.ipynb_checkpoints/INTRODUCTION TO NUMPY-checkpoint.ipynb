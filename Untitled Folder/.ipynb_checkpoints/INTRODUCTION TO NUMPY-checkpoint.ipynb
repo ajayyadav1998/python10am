{
 "cells": [
  {
   "cell_type": "code",
   "execution_count": 6,
   "metadata": {},
   "outputs": [],
   "source": [
    "import numpy as np\n",
    "import pandas as pd\n",
    "import matplotlib.pyplot as plt\n",
    "%matplotlib inline"
   ]
  },
  {
   "cell_type": "code",
   "execution_count": 7,
   "metadata": {},
   "outputs": [],
   "source": [
    "a  = [1,2,3,4,5,6]"
   ]
  },
  {
   "cell_type": "code",
   "execution_count": 9,
   "metadata": {},
   "outputs": [],
   "source": [
    "a = np.array(a)"
   ]
  },
  {
   "cell_type": "code",
   "execution_count": 11,
   "metadata": {},
   "outputs": [
    {
     "name": "stdout",
     "output_type": "stream",
     "text": [
      "[1 2 3 4 5 6]\n"
     ]
    }
   ],
   "source": [
    "print(a)"
   ]
  },
  {
   "cell_type": "code",
   "execution_count": 12,
   "metadata": {},
   "outputs": [],
   "source": [
    "b = [[1,2,3],[4,5,6],[7,8,9]]"
   ]
  },
  {
   "cell_type": "code",
   "execution_count": 13,
   "metadata": {},
   "outputs": [],
   "source": [
    "b = np.array(b)"
   ]
  },
  {
   "cell_type": "code",
   "execution_count": 16,
   "metadata": {},
   "outputs": [
    {
     "data": {
      "text/plain": [
       "array([[1, 2, 3],\n",
       "       [4, 5, 6],\n",
       "       [7, 8, 9]])"
      ]
     },
     "execution_count": 16,
     "metadata": {},
     "output_type": "execute_result"
    }
   ],
   "source": [
    "b"
   ]
  },
  {
   "cell_type": "code",
   "execution_count": 15,
   "metadata": {},
   "outputs": [
    {
     "data": {
      "text/plain": [
       "(3, 3)"
      ]
     },
     "execution_count": 15,
     "metadata": {},
     "output_type": "execute_result"
    }
   ],
   "source": [
    "b.shape"
   ]
  },
  {
   "cell_type": "code",
   "execution_count": 17,
   "metadata": {},
   "outputs": [
    {
     "data": {
      "text/plain": [
       "2"
      ]
     },
     "execution_count": 17,
     "metadata": {},
     "output_type": "execute_result"
    }
   ],
   "source": [
    "b.ndim"
   ]
  },
  {
   "cell_type": "code",
   "execution_count": 18,
   "metadata": {},
   "outputs": [
    {
     "data": {
      "text/plain": [
       "1"
      ]
     },
     "execution_count": 18,
     "metadata": {},
     "output_type": "execute_result"
    }
   ],
   "source": [
    "a.ndim"
   ]
  },
  {
   "cell_type": "code",
   "execution_count": 21,
   "metadata": {},
   "outputs": [],
   "source": [
    "lins = np.linspace(1,5,100)"
   ]
  },
  {
   "cell_type": "code",
   "execution_count": 22,
   "metadata": {},
   "outputs": [
    {
     "data": {
      "text/plain": [
       "array([1.        , 1.04040404, 1.08080808, 1.12121212, 1.16161616,\n",
       "       1.2020202 , 1.24242424, 1.28282828, 1.32323232, 1.36363636,\n",
       "       1.4040404 , 1.44444444, 1.48484848, 1.52525253, 1.56565657,\n",
       "       1.60606061, 1.64646465, 1.68686869, 1.72727273, 1.76767677,\n",
       "       1.80808081, 1.84848485, 1.88888889, 1.92929293, 1.96969697,\n",
       "       2.01010101, 2.05050505, 2.09090909, 2.13131313, 2.17171717,\n",
       "       2.21212121, 2.25252525, 2.29292929, 2.33333333, 2.37373737,\n",
       "       2.41414141, 2.45454545, 2.49494949, 2.53535354, 2.57575758,\n",
       "       2.61616162, 2.65656566, 2.6969697 , 2.73737374, 2.77777778,\n",
       "       2.81818182, 2.85858586, 2.8989899 , 2.93939394, 2.97979798,\n",
       "       3.02020202, 3.06060606, 3.1010101 , 3.14141414, 3.18181818,\n",
       "       3.22222222, 3.26262626, 3.3030303 , 3.34343434, 3.38383838,\n",
       "       3.42424242, 3.46464646, 3.50505051, 3.54545455, 3.58585859,\n",
       "       3.62626263, 3.66666667, 3.70707071, 3.74747475, 3.78787879,\n",
       "       3.82828283, 3.86868687, 3.90909091, 3.94949495, 3.98989899,\n",
       "       4.03030303, 4.07070707, 4.11111111, 4.15151515, 4.19191919,\n",
       "       4.23232323, 4.27272727, 4.31313131, 4.35353535, 4.39393939,\n",
       "       4.43434343, 4.47474747, 4.51515152, 4.55555556, 4.5959596 ,\n",
       "       4.63636364, 4.67676768, 4.71717172, 4.75757576, 4.7979798 ,\n",
       "       4.83838384, 4.87878788, 4.91919192, 4.95959596, 5.        ])"
      ]
     },
     "execution_count": 22,
     "metadata": {},
     "output_type": "execute_result"
    }
   ],
   "source": [
    "lins"
   ]
  },
  {
   "cell_type": "code",
   "execution_count": 24,
   "metadata": {},
   "outputs": [
    {
     "data": {
      "image/png": "[encoded data removed]",
      "text/plain": [
       "<Figure size 432x288 with 1 Axes>"
      ]
     },
     "metadata": {
      "needs_background": "light"
     },
     "output_type": "display_data"
    }
   ],
   "source": [
    "plt.plot(lins)\n",
    "plt.show()"
   ]
  },
  {
   "cell_type": "code",
   "execution_count": 35,
   "metadata": {},
   "outputs": [],
   "source": [
    "ara = np.arange(1,101)"
   ]
  },
  {
   "cell_type": "code",
   "execution_count": 36,
   "metadata": {},
   "outputs": [
    {
     "data": {
      "text/plain": [
       "array([  1,   2,   3,   4,   5,   6,   7,   8,   9,  10,  11,  12,  13,\n",
       "        14,  15,  16,  17,  18,  19,  20,  21,  22,  23,  24,  25,  26,\n",
       "        27,  28,  29,  30,  31,  32,  33,  34,  35,  36,  37,  38,  39,\n",
       "        40,  41,  42,  43,  44,  45,  46,  47,  48,  49,  50,  51,  52,\n",
       "        53,  54,  55,  56,  57,  58,  59,  60,  61,  62,  63,  64,  65,\n",
       "        66,  67,  68,  69,  70,  71,  72,  73,  74,  75,  76,  77,  78,\n",
       "        79,  80,  81,  82,  83,  84,  85,  86,  87,  88,  89,  90,  91,\n",
       "        92,  93,  94,  95,  96,  97,  98,  99, 100])"
      ]
     },
     "execution_count": 36,
     "metadata": {},
     "output_type": "execute_result"
    }
   ],
   "source": [
    "ara"
   ]
  },
  {
   "cell_type": "code",
   "execution_count": 38,
   "metadata": {
    "scrolled": true
   },
   "outputs": [
    {
     "data": {
      "text/plain": [
       "array([[  1,   2,   3,   4],\n",
       "       [  5,   6,   7,   8],\n",
       "       [  9,  10,  11,  12],\n",
       "       [ 13,  14,  15,  16],\n",
       "       [ 17,  18,  19,  20],\n",
       "       [ 21,  22,  23,  24],\n",
       "       [ 25,  26,  27,  28],\n",
       "       [ 29,  30,  31,  32],\n",
       "       [ 33,  34,  35,  36],\n",
       "       [ 37,  38,  39,  40],\n",
       "       [ 41,  42,  43,  44],\n",
       "       [ 45,  46,  47,  48],\n",
       "       [ 49,  50,  51,  52],\n",
       "       [ 53,  54,  55,  56],\n",
       "       [ 57,  58,  59,  60],\n",
       "       [ 61,  62,  63,  64],\n",
       "       [ 65,  66,  67,  68],\n",
       "       [ 69,  70,  71,  72],\n",
       "       [ 73,  74,  75,  76],\n",
       "       [ 77,  78,  79,  80],\n",
       "       [ 81,  82,  83,  84],\n",
       "       [ 85,  86,  87,  88],\n",
       "       [ 89,  90,  91,  92],\n",
       "       [ 93,  94,  95,  96],\n",
       "       [ 97,  98,  99, 100]])"
      ]
     },
     "execution_count": 38,
     "metadata": {},
     "output_type": "execute_result"
    }
   ],
   "source": [
    "ara.reshape(25,4)"
   ]
  },
  {
   "cell_type": "code",
   "execution_count": 43,
   "metadata": {},
   "outputs": [],
   "source": [
    "ara = ara.reshape(-1,5)"
   ]
  },
  {
   "cell_type": "code",
   "execution_count": 41,
   "metadata": {},
   "outputs": [
    {
     "data": {
      "text/plain": [
       "array([[  1,   2,   3,   4,   5,   6,   7,   8,   9,  10,  11,  12,  13,\n",
       "         14,  15,  16,  17,  18,  19,  20],\n",
       "       [ 21,  22,  23,  24,  25,  26,  27,  28,  29,  30,  31,  32,  33,\n",
       "         34,  35,  36,  37,  38,  39,  40],\n",
       "       [ 41,  42,  43,  44,  45,  46,  47,  48,  49,  50,  51,  52,  53,\n",
       "         54,  55,  56,  57,  58,  59,  60],\n",
       "       [ 61,  62,  63,  64,  65,  66,  67,  68,  69,  70,  71,  72,  73,\n",
       "         74,  75,  76,  77,  78,  79,  80],\n",
       "       [ 81,  82,  83,  84,  85,  86,  87,  88,  89,  90,  91,  92,  93,\n",
       "         94,  95,  96,  97,  98,  99, 100]])"
      ]
     },
     "execution_count": 41,
     "metadata": {},
     "output_type": "execute_result"
    }
   ],
   "source": [
    "ara.reshape(5,-1)"
   ]
  },
  {
   "cell_type": "code",
   "execution_count": 48,
   "metadata": {},
   "outputs": [
    {
     "data": {
      "text/plain": [
       "(20, 5)"
      ]
     },
     "execution_count": 48,
     "metadata": {},
     "output_type": "execute_result"
    }
   ],
   "source": [
    "ara.shape"
   ]
  },
  {
   "cell_type": "code",
   "execution_count": 49,
   "metadata": {},
   "outputs": [
    {
     "data": {
      "text/plain": [
       "array([[  1,   2,   3,   4,   5],\n",
       "       [  6,   7,   8,   9,  10],\n",
       "       [ 11,  12,  13,  14,  15],\n",
       "       [ 16,  17,  18,  19,  20],\n",
       "       [ 21,  22,  23,  24,  25],\n",
       "       [ 26,  27,  28,  29,  30],\n",
       "       [ 31,  32,  33,  34,  35],\n",
       "       [ 36,  37,  38,  39,  40],\n",
       "       [ 41,  42,  43,  44,  45],\n",
       "       [ 46,  47,  48,  49,  50],\n",
       "       [ 51,  52,  53,  54,  55],\n",
       "       [ 56,  57,  58,  59,  60],\n",
       "       [ 61,  62,  63,  64,  65],\n",
       "       [ 66,  67,  68,  69,  70],\n",
       "       [ 71,  72,  73,  74,  75],\n",
       "       [ 76,  77,  78,  79,  80],\n",
       "       [ 81,  82,  83,  84,  85],\n",
       "       [ 86,  87,  88,  89,  90],\n",
       "       [ 91,  92,  93,  94,  95],\n",
       "       [ 96,  97,  98,  99, 100]])"
      ]
     },
     "execution_count": 49,
     "metadata": {},
     "output_type": "execute_result"
    }
   ],
   "source": [
    "ara"
   ]
  },
  {
   "cell_type": "code",
   "execution_count": 47,
   "metadata": {},
   "outputs": [
    {
     "data": {
      "image/png": "[encoded data removed]",
      "text/plain": [
       "<Figure size 432x288 with 1 Axes>"
      ]
     },
     "metadata": {
      "needs_background": "light"
     },
     "output_type": "display_data"
    }
   ],
   "source": [
    "plt.plot(ara,lw=8)\n",
    "plt.show()"
   ]
  },
  {
   "cell_type": "code",
   "execution_count": 52,
   "metadata": {},
   "outputs": [
    {
     "data": {
      "text/plain": [
       "array([[8., 0., 0., 0., 0., 0.],\n",
       "       [0., 8., 0., 0., 0., 0.],\n",
       "       [0., 0., 8., 0., 0., 0.],\n",
       "       [0., 0., 0., 8., 0., 0.],\n",
       "       [0., 0., 0., 0., 8., 0.],\n",
       "       [0., 0., 0., 0., 0., 8.]])"
      ]
     },
     "execution_count": 52,
     "metadata": {},
     "output_type": "execute_result"
    }
   ],
   "source": [
    "eye = np.eye(6)*8\n",
    "eye"
   ]
  },
  {
   "cell_type": "code",
   "execution_count": 53,
   "metadata": {},
   "outputs": [
    {
     "data": {
      "text/plain": [
       "50.5"
      ]
     },
     "execution_count": 53,
     "metadata": {},
     "output_type": "execute_result"
    }
   ],
   "source": [
    "ara.mean()"
   ]
  },
  {
   "cell_type": "code",
   "execution_count": 55,
   "metadata": {},
   "outputs": [],
   "source": [
    "rand = np.random.randint(1,100,1000)"
   ]
  },
  {
   "cell_type": "code",
   "execution_count": 58,
   "metadata": {},
   "outputs": [
    {
     "data": {
      "image/png": "[encoded data removed]",
      "text/plain": [
       "<Figure size 432x288 with 1 Axes>"
      ]
     },
     "metadata": {
      "needs_background": "light"
     },
     "output_type": "display_data"
    }
   ],
   "source": [
    "plt.hist(rand)\n",
    "plt.show()"
   ]
  },
  {
   "cell_type": "code",
   "execution_count": 59,
   "metadata": {},
   "outputs": [
    {
     "data": {
      "text/plain": [
       "array([[-0.37428478,  0.95714427, -2.31554356,  0.74187006],\n",
       "       [ 1.791013  , -0.69223432,  1.51685215,  1.04791343],\n",
       "       [ 0.99062602,  0.99084821, -0.47476042,  0.89614848],\n",
       "       [-0.66487542,  0.41128431, -0.99512192, -0.3912544 ],\n",
       "       [-1.13668648,  1.53034929, -1.67428555,  1.35191823],\n",
       "       [ 0.17768725, -2.59646631,  1.59197453,  0.90803605],\n",
       "       [ 2.15133811, -1.90001443,  0.50573678,  0.60061528],\n",
       "       [ 0.53968843,  0.72677814,  0.86835664, -0.39901623],\n",
       "       [ 0.37579431, -0.48502152,  2.32524015, -0.18722764],\n",
       "       [-0.88135959,  0.72334426, -0.80634454, -0.29948301]])"
      ]
     },
     "execution_count": 59,
     "metadata": {},
     "output_type": "execute_result"
    }
   ],
   "source": [
    "radn = np.random.randn(10,4)\n",
    "radn"
   ]
  },
  {
   "cell_type": "code",
   "execution_count": 71,
   "metadata": {},
   "outputs": [],
   "source": [
    "radn[1,1] = 5"
   ]
  },
  {
   "cell_type": "code",
   "execution_count": 72,
   "metadata": {},
   "outputs": [
    {
     "data": {
      "text/plain": [
       "array([[-0.37428478,  0.95714427, -2.31554356,  0.74187006],\n",
       "       [ 1.791013  ,  5.        ,  1.51685215,  1.04791343],\n",
       "       [ 0.99062602,  0.99084821, -0.47476042,  0.89614848],\n",
       "       [-0.66487542,  0.41128431, -0.99512192, -0.3912544 ],\n",
       "       [-1.13668648,  1.53034929, -1.67428555,  1.35191823],\n",
       "       [ 0.17768725, -2.59646631,  1.59197453,  0.90803605],\n",
       "       [ 2.15133811, -1.90001443,  0.50573678,  0.60061528],\n",
       "       [ 0.53968843,  0.72677814,  0.86835664, -0.39901623],\n",
       "       [ 0.37579431, -0.48502152,  2.32524015, -0.18722764],\n",
       "       [-0.88135959,  0.72334426, -0.80634454, -0.29948301]])"
      ]
     },
     "execution_count": 72,
     "metadata": {},
     "output_type": "execute_result"
    }
   ],
   "source": [
    "radn"
   ]
  },
  {
   "cell_type": "code",
   "execution_count": 73,
   "metadata": {},
   "outputs": [],
   "source": [
    "a = [[1,2,3,4],[2,3,4,5],[5,6,7,8]]\n",
    "b = [[5,4,3,5],[6,5,7,8],[4,5,6,7]]\n",
    "\n",
    "a = np.array(a)\n",
    "b = np.array(b)"
   ]
  },
  {
   "cell_type": "code",
   "execution_count": 74,
   "metadata": {},
   "outputs": [
    {
     "data": {
      "text/plain": [
       "array([[1, 2, 3, 4],\n",
       "       [2, 3, 4, 5],\n",
       "       [5, 6, 7, 8]])"
      ]
     },
     "execution_count": 74,
     "metadata": {},
     "output_type": "execute_result"
    }
   ],
   "source": [
    "a"
   ]
  },
  {
   "cell_type": "code",
   "execution_count": 75,
   "metadata": {},
   "outputs": [
    {
     "data": {
      "text/plain": [
       "array([[5, 4, 3, 5],\n",
       "       [6, 5, 7, 8],\n",
       "       [4, 5, 6, 7]])"
      ]
     },
     "execution_count": 75,
     "metadata": {},
     "output_type": "execute_result"
    }
   ],
   "source": [
    "b"
   ]
  },
  {
   "cell_type": "code",
   "execution_count": 76,
   "metadata": {},
   "outputs": [
    {
     "data": {
      "text/plain": [
       "array([[ 5,  8,  9, 20],\n",
       "       [12, 15, 28, 40],\n",
       "       [20, 30, 42, 56]])"
      ]
     },
     "execution_count": 76,
     "metadata": {},
     "output_type": "execute_result"
    }
   ],
   "source": [
    "a * b"
   ]
  },
  {
   "cell_type": "code",
   "execution_count": 78,
   "metadata": {},
   "outputs": [],
   "source": [
    "c = [[1,2,3,4],[5,6,7,8]]\n",
    "d = [[1,2],[5,6]]"
   ]
  },
  {
   "cell_type": "code",
   "execution_count": 96,
   "metadata": {},
   "outputs": [],
   "source": [
    "c = np.arange(1,13)\n",
    "d = np.arange(13,25)"
   ]
  },
  {
   "cell_type": "code",
   "execution_count": 97,
   "metadata": {},
   "outputs": [
    {
     "data": {
      "text/plain": [
       "array([ 1,  2,  3,  4,  5,  6,  7,  8,  9, 10, 11, 12])"
      ]
     },
     "execution_count": 97,
     "metadata": {},
     "output_type": "execute_result"
    }
   ],
   "source": [
    "c"
   ]
  },
  {
   "cell_type": "code",
   "execution_count": 98,
   "metadata": {},
   "outputs": [
    {
     "data": {
      "text/plain": [
       "array([13, 14, 15, 16, 17, 18, 19, 20, 21, 22, 23, 24])"
      ]
     },
     "execution_count": 98,
     "metadata": {},
     "output_type": "execute_result"
    }
   ],
   "source": [
    "d"
   ]
  },
  {
   "cell_type": "code",
   "execution_count": 119,
   "metadata": {},
   "outputs": [],
   "source": [
    "c = c.reshape(4,3)"
   ]
  },
  {
   "cell_type": "code",
   "execution_count": 122,
   "metadata": {},
   "outputs": [],
   "source": [
    "d = d.reshape(3,4)"
   ]
  },
  {
   "cell_type": "code",
   "execution_count": 123,
   "metadata": {},
   "outputs": [
    {
     "data": {
      "text/plain": [
       "array([[110, 116, 122, 128],\n",
       "       [263, 278, 293, 308],\n",
       "       [416, 440, 464, 488],\n",
       "       [569, 602, 635, 668]])"
      ]
     },
     "execution_count": 123,
     "metadata": {},
     "output_type": "execute_result"
    }
   ],
   "source": [
    "c @ d"
   ]
  },
  {
   "cell_type": "code",
   "execution_count": 106,
   "metadata": {},
   "outputs": [
    {
     "name": "stdout",
     "output_type": "stream",
     "text": [
      "[[ 0  1  2  3  4  5]\n",
      " [ 6  7  8  9 10 11]\n",
      " [12 13 14 15 16 17]\n",
      " [18 19 20 21 22 23]\n",
      " [24 25 26 27 28 29]\n",
      " [30 31 32 33 34 35]]\n",
      "[[ 0  1  2  3  4  5]\n",
      " [ 6  7  8  9 10 11]\n",
      " [12 13 14 15 16 17]\n",
      " [18 19 20 21 22 23]\n",
      " [24 25 26 27 28 29]\n",
      " [30 31 32 33 34 35]]\n"
     ]
    }
   ],
   "source": [
    "v = np.arange(36).reshape(6,6)\n",
    "print(v)\n",
    "w = np.arange(36).reshape(6,6)\n",
    "print(v)"
   ]
  },
  {
   "cell_type": "code",
   "execution_count": 107,
   "metadata": {},
   "outputs": [
    {
     "data": {
      "text/plain": [
       "array([[ 330,  345,  360,  375,  390,  405],\n",
       "       [ 870,  921,  972, 1023, 1074, 1125],\n",
       "       [1410, 1497, 1584, 1671, 1758, 1845],\n",
       "       [1950, 2073, 2196, 2319, 2442, 2565],\n",
       "       [2490, 2649, 2808, 2967, 3126, 3285],\n",
       "       [3030, 3225, 3420, 3615, 3810, 4005]])"
      ]
     },
     "execution_count": 107,
     "metadata": {},
     "output_type": "execute_result"
    }
   ],
   "source": [
    "v @ w"
   ]
  },
  {
   "cell_type": "code",
   "execution_count": 115,
   "metadata": {},
   "outputs": [
    {
     "data": {
      "text/plain": [
       "(6, 6)"
      ]
     },
     "execution_count": 115,
     "metadata": {},
     "output_type": "execute_result"
    }
   ],
   "source": [
    "v.shape"
   ]
  },
  {
   "cell_type": "code",
   "execution_count": 116,
   "metadata": {},
   "outputs": [
    {
     "data": {
      "text/plain": [
       "2"
      ]
     },
     "execution_count": 116,
     "metadata": {},
     "output_type": "execute_result"
    }
   ],
   "source": [
    "v.ndim"
   ]
  },
  {
   "cell_type": "code",
   "execution_count": 124,
   "metadata": {},
   "outputs": [
    {
     "data": {
      "text/plain": [
       "2"
      ]
     },
     "execution_count": 124,
     "metadata": {},
     "output_type": "execute_result"
    }
   ],
   "source": [
    "c.ndim"
   ]
  },
  {
   "cell_type": "code",
   "execution_count": 125,
   "metadata": {},
   "outputs": [
    {
     "data": {
      "text/plain": [
       "2"
      ]
     },
     "execution_count": 125,
     "metadata": {},
     "output_type": "execute_result"
    }
   ],
   "source": [
    "d.ndim"
   ]
  },
  {
   "cell_type": "code",
   "execution_count": 129,
   "metadata": {},
   "outputs": [
    {
     "data": {
      "text/plain": [
       "array([[9, 9, 9, 9, 9, 9, 9, 9, 9, 9],\n",
       "       [9, 9, 9, 9, 9, 9, 9, 9, 9, 9],\n",
       "       [9, 9, 9, 9, 9, 9, 9, 9, 9, 9],\n",
       "       [9, 9, 9, 9, 9, 9, 9, 9, 9, 9],\n",
       "       [9, 9, 9, 9, 9, 9, 9, 9, 9, 9],\n",
       "       [9, 9, 9, 9, 9, 9, 9, 9, 9, 9],\n",
       "       [9, 9, 9, 9, 9, 9, 9, 9, 9, 9],\n",
       "       [9, 9, 9, 9, 9, 9, 9, 9, 9, 9],\n",
       "       [9, 9, 9, 9, 9, 9, 9, 9, 9, 9],\n",
       "       [9, 9, 9, 9, 9, 9, 9, 9, 9, 9]])"
      ]
     },
     "execution_count": 129,
     "metadata": {},
     "output_type": "execute_result"
    }
   ],
   "source": [
    "np.full((10,10),9)"
   ]
  },
  {
   "cell_type": "code",
   "execution_count": 130,
   "metadata": {},
   "outputs": [
    {
     "data": {
      "text/plain": [
       "array([-2.12958159e+02, -2.87217011e+01,  1.59189170e+01,  2.94779723e+01,\n",
       "        1.40511244e+01,  1.95061318e+01,  6.46139727e+00,  1.40503305e+02,\n",
       "       -1.96317260e+01, -5.59615671e+01,  2.61025704e-01,  1.33927918e+01,\n",
       "        1.46246397e+02, -1.58757850e+02, -2.56196063e+02,  3.12189791e+01,\n",
       "        4.97529529e+01, -3.64489591e+01, -9.22023790e+01,  2.56727710e+01,\n",
       "        6.43360657e+01,  5.99613302e+01,  2.44132417e+01,  9.02778696e+01,\n",
       "       -8.16293838e+01,  1.41842789e+02, -1.64432061e+02,  4.63879166e+01,\n",
       "        1.21584114e+02,  1.09125075e+01, -1.59303772e+02, -7.82809278e+01,\n",
       "        7.70496660e+01, -7.32069938e+01,  9.65438713e+01, -3.32963477e+01,\n",
       "        1.50664460e+01,  6.28971960e+01, -2.80099108e+01,  1.56264043e+02,\n",
       "        1.08133973e+02,  9.94623430e+01, -8.47193960e+01,  1.72804297e+01,\n",
       "       -1.62665298e+00, -1.05208439e+01, -8.43894078e+01, -1.28542018e+02,\n",
       "       -1.20589065e+02,  9.37182931e+01,  4.03481852e+01, -7.76864297e+01,\n",
       "        1.29270691e+02,  1.26200881e+02,  5.43873283e+01, -5.62227687e+01,\n",
       "        1.64701780e+02, -1.08332711e+02,  1.53668290e+02, -1.81352609e+02,\n",
       "        2.75350968e+01,  5.31167702e+01, -2.12753226e+01, -6.36575746e+01,\n",
       "       -6.01837157e+01, -1.16164580e+02,  4.52155527e+00, -1.25742006e+02,\n",
       "       -5.30197626e+01,  2.88029092e+00,  3.16410500e+00, -1.98842522e+02,\n",
       "       -5.05903403e+01, -6.34462206e+01, -1.50694266e+01, -1.45481516e+02,\n",
       "       -2.73008398e+01,  3.82166702e+01, -7.05642390e+01, -1.89221530e+02,\n",
       "        1.25580291e+02, -6.06208626e+01, -1.47256375e+02, -5.91719232e+01,\n",
       "       -4.35173345e+01, -8.23399784e+01, -2.15860497e+02, -5.17333120e+01,\n",
       "       -7.84503852e+00, -1.36269184e+02, -1.19915177e+02, -9.63473187e+01,\n",
       "       -2.25560526e+02, -1.52061108e+01, -2.01189389e+01, -1.71486869e+01,\n",
       "        3.84936233e+00,  3.25452187e+01,  1.99092434e+01,  6.98834933e+01,\n",
       "        1.09448569e+01, -3.71575739e+01,  1.02485552e+02, -5.09605537e+01,\n",
       "       -4.37199880e+01, -1.11214546e+02, -1.77421033e+01,  1.07869927e+02,\n",
       "        2.28437228e+02, -1.05337182e+02, -5.79668673e+01, -8.44575559e+01,\n",
       "       -1.78615235e+02, -7.80371126e+01,  1.22392727e+02, -7.66012983e+01,\n",
       "        1.50192600e+01,  9.84711025e+01, -8.06192109e+01,  5.05046255e+01,\n",
       "       -1.42845646e+02, -8.39249251e+00,  3.46979695e+01,  1.86500021e+02,\n",
       "       -7.33741227e+01,  8.43933866e+01,  1.51954306e+02,  1.91265656e+02,\n",
       "       -1.86890647e+01,  8.68753680e+01,  4.90426513e+01,  2.76260732e+00,\n",
       "        1.77644751e+02, -7.55949767e+01,  6.49657023e+01,  9.10407092e+01,\n",
       "        9.71953005e+01,  5.53202800e+01, -7.86043604e+01,  4.74201154e+01,\n",
       "       -1.57547487e+02, -1.60454164e+01, -5.76604018e+01, -5.65174230e+01,\n",
       "        1.51790335e+02,  1.98172391e+01, -2.00516340e+02,  1.44816308e+01,\n",
       "        8.63584574e+01, -1.38033571e+02,  4.18891744e+01,  7.39128812e+01,\n",
       "       -2.88389048e+01,  9.92592546e+01,  4.00048067e+01, -9.72377792e+01,\n",
       "       -9.90082091e+00,  1.00683570e+02, -1.12130392e+02, -2.22644589e+01,\n",
       "       -7.90127949e+01, -2.56382714e+01, -1.00840961e+02,  5.70227402e+00,\n",
       "        5.88612105e+01, -1.03849552e+00,  1.21488091e+01, -7.20739627e+01,\n",
       "       -1.49105862e+02,  1.02313135e+01,  7.29585667e+01,  6.56349065e+01,\n",
       "       -9.26906693e+01, -1.06497991e+02,  7.00380158e+01,  1.08357858e+02,\n",
       "        1.77658110e+01, -6.88178970e+01, -1.44198380e+01,  9.59728384e+01,\n",
       "        5.14644387e+01,  3.98718838e+01,  5.15956281e+01, -4.74681221e+01,\n",
       "       -6.80430951e+01,  1.42503954e+02,  1.42187743e+02,  3.42309328e+01,\n",
       "       -2.62191842e+00,  5.32891305e+01, -2.83350576e+01, -5.10149666e+00,\n",
       "       -1.04336359e+02,  6.21142851e+01, -9.97830979e+01, -7.58882801e+01,\n",
       "       -6.04167148e+01,  1.06636517e+02, -9.18034818e+01,  1.18512494e+02,\n",
       "       -7.02222362e+01,  2.37089153e+01, -8.13967171e+01, -9.16021442e+00,\n",
       "        5.45876814e+00,  3.55570234e+01, -3.11566013e+02,  1.22423533e+01,\n",
       "       -9.42972824e+01,  1.21095707e+02, -6.67504683e+01, -3.40049307e+01,\n",
       "       -1.98439114e+01,  6.72506821e+01, -3.70861341e+01,  1.25082135e+02,\n",
       "       -4.17992900e+01,  1.44391981e+02, -1.33078236e+02,  1.13368373e+01,\n",
       "        3.95076235e+01, -2.83320176e+01, -2.76040492e+01,  1.15202575e+01,\n",
       "       -5.33451048e+01,  9.25325914e+00, -3.98856602e+00, -2.75926290e+01,\n",
       "        9.84575039e+01,  3.48577857e+00,  4.83321450e+01,  1.17393091e+01,\n",
       "       -5.83523795e+01,  3.16174549e+00, -1.61363614e+02,  3.46622492e+01,\n",
       "        1.54451170e+01,  1.04089092e+02,  1.55203551e+02,  2.16116847e+01,\n",
       "       -7.59108113e+00,  1.58137455e+02, -4.06065389e+00, -1.30143547e+02,\n",
       "       -3.65786864e+01,  3.87501725e+01,  4.99009131e+01, -4.10921424e+01,\n",
       "        1.06066707e+02, -1.38918656e+02,  8.41092063e+01,  1.73418016e+02,\n",
       "        3.76087938e+01,  5.84280403e+01,  1.61646837e+02, -1.36910748e+01,\n",
       "        2.50800752e+00, -3.24991066e+01,  1.32005918e+02, -7.61219084e+01,\n",
       "        1.80561559e+02, -1.32873923e+01, -1.41084056e+01, -1.31489719e+01,\n",
       "       -3.18949594e+01, -5.46046248e+01, -8.29060527e+00,  2.09534815e+01,\n",
       "       -2.18886482e+01,  1.39942859e+01, -9.47262594e+01,  1.16020839e+02,\n",
       "        1.79812503e+02, -3.84951575e+01, -2.36350112e+01,  3.30443533e+01,\n",
       "        1.33484672e+02, -9.72452444e+01, -1.01945188e+01,  1.61579404e+02,\n",
       "        1.53478597e+02, -4.88115086e+01, -4.42619532e+01,  2.53572918e+01,\n",
       "       -1.53376903e+02,  1.14116265e+02,  1.65963203e+02, -9.99309139e+01,\n",
       "        9.65202643e+01,  8.91844447e+01,  6.92372392e+01,  1.79470003e+02,\n",
       "        1.25091591e+02,  4.48422406e+01,  1.25073462e+02,  8.09930163e+01,\n",
       "        5.50368820e+01, -1.20055358e+02, -1.58956637e+02,  9.78736398e+01,\n",
       "        6.18683644e+01, -1.88605258e+02, -5.09217178e+01, -1.84239989e+02,\n",
       "       -9.40097828e+01, -2.26471273e+01, -5.78750832e+01, -2.82442631e+01,\n",
       "        6.28271668e+01, -3.87546910e+01,  4.06092710e+00, -6.62378958e+01,\n",
       "        1.19284506e+02,  5.02440502e+01,  1.69314713e+02, -6.15869173e+01,\n",
       "        1.33754454e+02, -1.23698494e+02,  4.77627271e+01,  1.91265092e+02,\n",
       "        6.57115839e+01,  8.15830349e+01, -8.14907670e+01,  1.33829607e+02,\n",
       "        1.47754081e+01, -1.15802005e+02,  3.14178330e+01, -1.05928524e+02,\n",
       "        3.62869942e+01,  2.07730213e+01, -2.54410568e+01, -3.37197181e+01,\n",
       "       -8.71638494e+01,  4.37165827e+01, -4.54700709e+01,  9.66006070e+01,\n",
       "        7.39659635e+01,  1.85285732e+02, -9.35035042e+00, -5.61931879e+01,\n",
       "       -3.11758225e+01,  3.17558176e+01, -1.25784425e+02,  9.27694786e+01,\n",
       "        1.85642136e+02, -8.51704250e+01,  9.74749746e+01,  1.81714290e+02,\n",
       "        1.28915556e+02, -1.15734405e+02,  2.96628335e+01,  6.27164306e+00,\n",
       "        2.18179589e+02,  1.20568510e+01, -1.06425185e+02,  4.83052044e+01,\n",
       "       -3.56058646e+01, -1.24589894e+02,  1.44121969e+02, -9.22979959e+00,\n",
       "        8.70866141e+01,  1.41626105e+01,  1.67343119e+02, -1.05457777e+02,\n",
       "        1.74882964e+01,  2.27809757e+01, -1.94195547e+02,  9.78848930e+01,\n",
       "        9.09877434e+01,  1.25280253e+02, -6.14545564e+01,  5.35478828e+01,\n",
       "       -1.08730175e+02, -4.61368635e+01,  5.21336391e+01, -1.06096256e+02,\n",
       "        3.09089264e+01,  3.55245271e+01, -1.52131478e+02, -7.58157017e+01,\n",
       "        8.37441265e+00, -5.04356439e+00, -2.06469207e+01,  1.37841798e+02,\n",
       "        6.76716476e+01, -5.44382370e+01,  2.22037325e+01, -6.44404772e+01,\n",
       "       -4.07465529e+01, -1.33522242e+01,  1.81084533e+02,  7.66118001e+01,\n",
       "        8.76122413e+01, -1.52990876e+02, -6.79084499e+01,  3.29610456e+01,\n",
       "       -7.76052986e+00,  1.11730133e+02, -4.95219898e+01,  2.21486502e+01,\n",
       "       -2.34847920e+02,  9.58977982e+01,  7.90076993e+01,  9.68024614e+01,\n",
       "       -5.72225819e+00, -1.59484285e+02,  6.46429498e+01, -1.42307413e+02,\n",
       "        1.10019902e+02,  1.12705311e+02,  4.13668705e+01,  2.34434347e+01,\n",
       "       -6.81828040e+01,  1.10550776e+02,  2.37300656e+01, -5.06305544e+01,\n",
       "       -4.00169333e+01,  6.96697802e+01,  2.91149503e+01, -1.45081117e+02,\n",
       "        5.28680982e+01, -2.33816892e+01, -2.16924029e+01,  1.17627757e+01,\n",
       "        4.71622341e+01,  2.18135068e+01, -7.55509379e+01, -1.96025103e+02,\n",
       "        1.99710746e+02, -4.68363442e+01, -1.84712834e+02,  1.56679941e+02,\n",
       "        6.95972271e+00, -1.24780995e+02,  1.17147882e+02,  1.34708470e+02,\n",
       "        1.24852657e+02,  7.31431052e+01,  1.23757120e+02,  1.14772874e+02,\n",
       "        3.06170425e+01, -6.33270272e+01,  7.97493179e+01,  1.03244020e+02,\n",
       "        5.27909695e+00, -1.80938790e+02,  1.66612333e+02,  1.06993665e+01,\n",
       "        1.32214981e+02, -1.56857276e+02, -2.67444916e+01, -1.09944659e+02,\n",
       "       -1.03099795e+02, -3.43481981e+01,  1.17285291e+02, -6.77589773e+01,\n",
       "       -7.35110546e+01, -5.06078909e+01, -1.00611346e+02, -6.50872918e+00,\n",
       "        3.25759818e+01, -4.08674499e+01, -4.83813664e+01, -2.41361771e+02,\n",
       "       -9.91844769e+01,  5.82470761e+01,  1.90166479e+01, -2.70369076e+01,\n",
       "       -7.25147463e+01, -7.61025003e+01,  1.30894743e+02, -6.39375809e+01,\n",
       "       -3.95708818e+01,  2.04353236e+02,  5.41087182e+01,  2.39321840e+01,\n",
       "       -1.06940052e+02,  5.39932006e+01,  1.85736975e+02, -1.60804276e+02,\n",
       "        3.99557945e+01, -1.35094613e+02,  8.75046530e+01,  7.51022114e+01,\n",
       "        9.99602706e+00,  1.72152146e+02,  2.15353864e+01,  8.85781205e+01,\n",
       "        1.12499433e+02, -2.88502908e+01,  8.55686383e+01, -1.10300169e+02,\n",
       "        1.41043372e+02,  7.20073218e+01, -1.28157861e+01,  8.50440511e+01,\n",
       "       -1.41787746e+02,  9.22817474e+01, -2.22553449e+01,  3.51730259e+01,\n",
       "        1.15351191e+02,  2.19945042e+02, -3.95311634e+00,  1.25370237e+02,\n",
       "        1.07767767e+02, -1.34336600e+01, -1.15876395e+02, -1.00929885e+01,\n",
       "       -9.29624676e+01, -6.75156705e+01, -1.31651192e+02, -5.05850488e+01,\n",
       "       -1.03629354e+02,  8.36595748e+01,  2.08678776e+02, -5.30741184e+01,\n",
       "        1.66786830e+02, -7.06324729e+01, -7.10117557e+01,  1.97155127e+02,\n",
       "        2.20577681e+01,  4.89033958e+01, -2.60480528e+01, -1.11250420e+01,\n",
       "        1.13413109e+02, -7.82558895e+01, -1.25714873e+02,  1.66156701e+01,\n",
       "       -5.91679734e+01,  1.17479442e+02, -2.74803552e+01, -2.18546961e+01,\n",
       "        3.33973903e+01, -1.26928215e+02,  1.92141825e+02, -1.89661338e+02,\n",
       "        1.34731527e+02, -4.08655499e+00,  9.22662680e+01,  1.64178484e+02,\n",
       "       -9.76268278e+01, -2.98112801e+01,  7.73600782e+01,  7.35320396e+00,\n",
       "       -1.25159758e+02,  1.02625113e+02, -6.49048762e+01,  1.17460780e+01,\n",
       "        1.21213377e+02,  2.27746551e+01,  4.12671495e+00, -7.78288835e+01,\n",
       "       -1.80856891e+01,  6.89680447e+01, -7.87428312e+01, -3.24923063e+01,\n",
       "        6.58798863e+01, -8.99040317e+01, -4.28838651e+01, -1.36719033e+01,\n",
       "        1.70416635e+02, -1.36192880e+02,  2.75193145e+01,  1.38436737e+02,\n",
       "        7.07982463e+01, -2.15177785e+01,  4.53229886e+01,  5.88498950e+01,\n",
       "       -8.67388325e+01, -9.21219808e+01,  7.44566783e+01, -2.81896990e+01,\n",
       "        1.07056284e+00,  1.41434413e+01, -3.94835133e+01, -1.75839863e+02,\n",
       "        4.33114594e+01,  1.18506083e+01, -2.07457938e+01,  9.09396587e+01,\n",
       "        1.25427429e+02, -4.89858082e+01,  1.38140913e+02,  2.17298201e+01,\n",
       "        8.84600130e+01,  1.00716167e+02,  1.15134542e+02,  3.88427123e+01,\n",
       "       -5.10622860e+01, -7.08633254e+01,  3.70459976e+01,  1.52074019e+02,\n",
       "        2.14830323e+01, -2.07613729e+02,  2.24210761e+01, -1.84170018e+02,\n",
       "        1.91805318e+01, -1.01144361e+02, -9.85608136e+01,  1.04752938e+02,\n",
       "       -5.97299520e+01, -2.04889368e+01,  1.63580086e+02, -9.82023567e+01,\n",
       "        6.80782716e+01,  9.89344979e+01,  1.13252607e+02,  6.21479279e+01,\n",
       "        1.53512364e+01,  3.46385372e+01, -2.22891125e+01,  1.33576679e+02,\n",
       "       -3.19984327e+01, -2.92243246e+01, -1.18338084e+02,  9.44038196e+01,\n",
       "       -9.08704275e+01, -2.91099416e+01, -6.32010429e+01,  1.12931777e+02,\n",
       "        5.29605524e+01,  1.54839811e+02, -8.10382516e+01,  1.55433821e+02,\n",
       "       -1.96284185e+02, -2.40779908e+01,  7.54016005e+01, -1.68343233e+01,\n",
       "        5.55362055e+01,  5.02687649e+01,  1.36465219e+02,  9.54297392e+01,\n",
       "        2.10858388e+01, -3.70883073e+00, -7.35601827e+01, -4.14412838e+01,\n",
       "        1.66143380e+02,  1.00705758e+02,  3.32620372e+01, -8.52080141e+01,\n",
       "       -2.78226770e+02,  2.20680476e+01,  1.06812074e+02, -7.74219120e+01,\n",
       "       -4.80410700e+01,  5.53299379e+00,  5.64328556e+01, -8.04236126e+01,\n",
       "        1.03160873e+02,  3.07186330e+01,  1.70889190e+01,  1.18036551e+02,\n",
       "       -1.66526323e+00, -4.71164363e+01,  1.09693448e+01,  1.66991903e+02,\n",
       "       -6.18434579e+01,  8.75716235e+00, -7.60802311e+00,  1.87161610e+02,\n",
       "        1.16957287e+02,  6.96810337e+01,  1.28268560e+01, -1.45304463e+02,\n",
       "       -5.72757078e+00,  7.99823783e+01, -2.30642313e+01, -4.23247561e+00,\n",
       "       -2.73423172e+01,  2.02535191e+01,  7.00272800e+01, -1.89919471e+01,\n",
       "       -7.83061114e+01, -3.96145268e+01, -9.44311767e+01, -1.72001330e+02,\n",
       "       -9.13156672e+01,  2.60174086e+01, -2.70211644e+01, -1.43404026e+02,\n",
       "       -1.16700993e+02,  1.23479622e+02,  1.99745860e+01, -5.68650762e+01,\n",
       "       -9.89346791e+01,  1.25566653e+02, -6.19352885e+01,  1.07798019e+02,\n",
       "       -1.21783403e+01,  2.63946980e+01,  8.66736237e+01, -1.49885253e+02,\n",
       "       -1.58454104e+02, -2.17702036e+01, -2.07620746e+02, -1.02034220e+01,\n",
       "        1.82480530e+02, -1.81078949e+02,  1.59689755e+00, -9.26497025e+01,\n",
       "       -2.35189081e+01,  9.57415429e+00,  1.60684857e+02,  2.48318117e+01,\n",
       "       -5.38576407e+01,  1.42739000e+01, -4.26536333e+01,  1.99716033e+01,\n",
       "       -6.71490128e+01,  6.98859238e+01, -1.77299918e+02,  1.90986566e+02,\n",
       "       -4.91781192e+01,  2.58718846e+01, -1.37187477e+01,  4.13801353e+00,\n",
       "       -1.09813954e+01, -2.41785962e+00, -5.53758515e+01,  8.70662455e+01,\n",
       "       -4.35744936e+00,  2.19725596e+02,  6.22939588e+00,  8.67939697e+01,\n",
       "       -1.56225913e+02,  1.12151380e+02, -4.37288145e+01,  1.78261051e+02,\n",
       "        2.87061503e+02, -6.68623635e+01, -1.51644936e+02,  5.36136131e+01,\n",
       "        4.13904476e+01,  1.58084101e+02, -3.37346343e+01,  2.54467969e+01,\n",
       "       -2.09747451e+01, -1.60276484e+01,  1.96851464e+01, -2.46089411e-01,\n",
       "        4.38145764e+00, -9.71782751e+01,  3.42281156e+01, -5.50311395e+01,\n",
       "        1.51531619e+02, -7.81964805e+01,  2.71923295e+01,  1.11275670e+02,\n",
       "       -1.51166859e+02,  1.57111129e+02,  2.22922103e+02, -2.19199852e+02,\n",
       "       -2.19798109e+01,  2.25549351e+02, -7.79149179e+01,  1.22901526e+01,\n",
       "        3.88233522e+01, -1.22585754e+02, -8.80402669e+01,  9.14350882e+01,\n",
       "        6.38194364e+01, -3.87990395e+01, -7.08224718e+00,  1.52782501e+02,\n",
       "        5.53669576e+01,  4.24096371e+01, -9.92693213e+01, -1.02150537e+00,\n",
       "        1.68873145e+01,  4.62772304e+01, -1.44529300e+02,  9.36919376e+01,\n",
       "       -7.24558676e+01, -1.70571133e+01,  2.33793512e+01,  5.71164053e+01,\n",
       "        8.74763851e+01, -2.07176470e+02,  8.87488405e+01,  1.19062679e+02,\n",
       "       -1.41983595e+01,  2.62623188e+01, -1.24989032e+02,  8.84055682e+01,\n",
       "       -7.77099954e+01,  3.42475752e+01, -8.05507357e+01, -1.99932935e+02,\n",
       "        1.72764531e+02,  1.50735163e+02, -8.00012276e+01,  7.33817826e+01,\n",
       "        1.14325350e+02,  3.60802655e+01, -1.16716747e+02, -3.90586033e+01,\n",
       "       -1.28449902e+02,  1.20359960e+02, -6.89901833e+01, -9.34079829e+01,\n",
       "       -1.37962333e+02, -9.16583394e+01, -1.16168025e+02, -2.35541170e+02,\n",
       "        2.03510512e+02, -1.05324202e+02, -6.42419877e+01,  5.88640579e+01,\n",
       "        1.07824853e+02, -4.71060492e+01,  1.36471648e+02, -1.85188570e+02,\n",
       "        1.37005804e+02, -2.68038038e+00, -1.73306332e+02,  7.24860783e+01,\n",
       "        1.83571505e+01, -3.01948957e+01, -2.03171509e+01,  3.51930856e+01,\n",
       "       -1.34753167e+02, -6.30255704e+01,  3.61212443e+00,  1.71597869e+02,\n",
       "        2.10408188e+02,  1.45066810e+02,  8.83788466e+00,  7.06226613e+01,\n",
       "       -6.89977263e+01, -2.15959404e+01, -9.56417341e+01, -2.03525644e+02,\n",
       "       -2.32856918e+01,  7.99545739e+01, -8.15260332e+00, -8.28418766e+01,\n",
       "       -1.58218764e+02,  9.07676633e+01,  1.21786604e+02,  1.33671951e+02,\n",
       "       -1.74304176e+02,  2.07307668e+02,  1.14149284e+02,  4.10761434e+01,\n",
       "       -4.79157945e+00, -4.91633881e+01, -1.09012751e+02,  7.87442775e+01,\n",
       "        1.07099119e+02,  1.85118082e+01, -3.36827277e-01, -1.33102190e+02,\n",
       "        6.73010299e+01, -7.36422574e+01, -3.97067748e+01, -2.08340790e+02,\n",
       "       -4.93752626e+01, -7.43625203e+01,  1.10002180e+02,  1.53046268e+00,\n",
       "        1.26656525e+02,  2.11348393e+02,  3.06006896e+01, -1.62464585e+02,\n",
       "        7.75697543e+01,  3.44300216e+01, -5.46502791e+01,  7.04045441e+01,\n",
       "       -1.32656508e+02, -5.63832097e+01,  6.51493391e+01, -1.90068628e+01,\n",
       "       -4.27282831e+01,  2.59071075e+01,  5.60107657e+00, -6.43990311e+01,\n",
       "       -1.45537206e+02, -2.12792929e+01,  4.37561938e+01, -2.04810756e+01,\n",
       "       -1.68696763e+02,  2.27022792e+00, -2.02151185e+01,  9.74532539e+01,\n",
       "        7.96403667e+01,  5.92854343e+01, -1.11916841e+02, -8.94257417e+01,\n",
       "        1.11227091e+02, -6.38106261e+01, -1.65768140e+01, -1.35709142e+02,\n",
       "       -6.38945494e+01, -4.05521934e+01, -3.00486432e+00,  7.85516827e+01,\n",
       "       -7.45087244e+01,  2.22208646e+01, -2.11915286e+02, -2.88567846e+01,\n",
       "        3.74747702e+01,  8.13694119e+01,  4.11834480e+01, -5.62378515e+00,\n",
       "       -6.09867632e+01,  9.72176492e+01,  6.40977980e+01,  2.83176546e+01,\n",
       "        7.32444487e+01, -1.13567173e+02, -1.38768905e+02,  2.68266532e+01,\n",
       "       -2.36241673e+01,  8.81922842e+01,  1.03130722e+02, -1.42019809e+02,\n",
       "       -1.89953409e+01,  9.03780628e+01,  9.97598113e+01,  4.03097189e+01,\n",
       "        5.23118914e+00, -4.76156793e+01, -2.58271322e+01,  1.48906182e+02,\n",
       "        2.12533318e+02,  1.20178880e+02, -1.15803226e+00,  4.13250592e+01,\n",
       "        5.64521171e+00,  3.03800200e+01,  1.65812529e+01,  1.03234464e+02,\n",
       "       -1.03024198e+02, -1.45760618e+02, -1.29882195e+01, -6.69187794e+01,\n",
       "        3.46901434e+01, -1.19569282e+02, -1.39939662e+02,  7.04965234e+00,\n",
       "       -2.43343834e+02,  1.00820193e+02, -1.21719240e+02, -4.41092470e+01,\n",
       "       -3.49636926e+01,  1.06560438e+02, -2.35090875e+01,  3.08326296e+01,\n",
       "       -5.82024554e+01, -2.12201156e+01, -4.77686702e+01, -2.81908701e+01,\n",
       "       -7.02416331e+01, -5.42532340e+01,  1.34171523e+02,  3.99937513e+01,\n",
       "       -1.71091520e+02, -5.33668677e+01,  1.01837542e+02, -9.90286266e+01,\n",
       "       -5.27743670e+01, -1.89023349e+02, -1.73406431e+02,  5.86972909e+01,\n",
       "        4.70736475e+01,  1.54349613e+02, -1.20471948e+01,  1.62085923e+02,\n",
       "        5.35752382e+01,  5.28653129e+00,  1.53183180e+01, -1.31380796e+02,\n",
       "       -1.14377564e+02, -4.39461074e+01,  1.08913465e+01, -6.33191814e+01,\n",
       "       -1.26490443e+02,  1.19257499e+02, -7.85950942e+01,  1.85598529e+01,\n",
       "       -8.39782780e+01, -7.72424967e+01,  5.21869945e+00, -9.70011020e+00,\n",
       "       -6.31202028e+01,  1.16852818e+01,  2.23683544e+01,  3.41071190e+01,\n",
       "        6.20359844e+01,  5.77394859e+01,  2.61140194e+02,  5.38155145e+01,\n",
       "       -8.77817672e+01,  6.14031247e+01, -3.52474420e+01,  9.49646969e+01,\n",
       "        1.24281176e+02, -3.20204319e+01, -2.10348037e+01,  5.00585356e+01])"
      ]
     },
     "execution_count": 130,
     "metadata": {},
     "output_type": "execute_result"
    }
   ],
   "source": [
    "norm = np.random.normal(1,100,1000)\n",
    "norm"
   ]
  },
  {
   "cell_type": "code",
   "execution_count": 141,
   "metadata": {},
   "outputs": [
    {
     "data": {
      "image/png": "[encoded data removed]",
      "text/plain": [
       "<Figure size 432x288 with 1 Axes>"
      ]
     },
     "metadata": {
      "needs_background": "light"
     },
     "output_type": "display_data"
    }
   ],
   "source": [
    "plt.hist(norm,bins=30)\n",
    "mean = norm.mean()\n",
    "median = np.median(norm)\n",
    "std = norm.std()\n",
    "plt.plot([mean,mean],[0,100],'r',linewidth=2)\n",
    "plt.plot([median,median],[0,100],'g',linewidth=2)\n",
    "plt.plot([mean+std,mean+std],[0,100],'m',lw=2)\n",
    "plt.plot([mean-std,mean-std],[0,100],'m',lw=2)\n",
    "plt.show()"
   ]
  },
  {
   "cell_type": "code",
   "execution_count": null,
   "metadata": {},
   "outputs": [],
   "source": []
  }
 ],
 "metadata": {
  "kernelspec": {
   "display_name": "Python 3",
   "language": "python",
   "name": "python3"
  },
  "language_info": {
   "codemirror_mode": {
    "name": "ipython",
    "version": 3
   },
   "file_extension": ".py",
   "mimetype": "text/x-python",
   "name": "python",
   "nbconvert_exporter": "python",
   "pygments_lexer": "ipython3",
   "version": "3.7.3"
  }
 },
 "nbformat": 4,
 "nbformat_minor": 2
}
